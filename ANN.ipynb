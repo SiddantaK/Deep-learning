{
 "cells": [
  {
   "cell_type": "code",
   "execution_count": 2,
   "id": "87c85144-75a2-4db7-9475-fa97025527f9",
   "metadata": {},
   "outputs": [],
   "source": [
    "#libraries\n",
    "import numpy as np\n",
    "import matplotlib.pyplot as plt\n",
    "import pandas as pd"
   ]
  },
  {
   "cell_type": "code",
   "execution_count": null,
   "id": "278e75d5-8662-4590-b302-f204f547972c",
   "metadata": {},
   "outputs": [],
   "source": []
  },
  {
   "cell_type": "code",
   "execution_count": 3,
   "id": "8db01fc8-720e-4fad-b36a-5fbc493cdb5e",
   "metadata": {},
   "outputs": [],
   "source": [
    "df = pd.read_csv('Churn_Modelling/Churn_Modelling.csv')"
   ]
  },
  {
   "cell_type": "code",
   "execution_count": 4,
   "id": "0bc5a968-8f5c-419d-85a0-0780fa98db95",
   "metadata": {},
   "outputs": [
    {
     "data": {
      "text/html": [
       "<div>\n",
       "<style scoped>\n",
       "    .dataframe tbody tr th:only-of-type {\n",
       "        vertical-align: middle;\n",
       "    }\n",
       "\n",
       "    .dataframe tbody tr th {\n",
       "        vertical-align: top;\n",
       "    }\n",
       "\n",
       "    .dataframe thead th {\n",
       "        text-align: right;\n",
       "    }\n",
       "</style>\n",
       "<table border=\"1\" class=\"dataframe\">\n",
       "  <thead>\n",
       "    <tr style=\"text-align: right;\">\n",
       "      <th></th>\n",
       "      <th>RowNumber</th>\n",
       "      <th>CustomerId</th>\n",
       "      <th>Surname</th>\n",
       "      <th>CreditScore</th>\n",
       "      <th>Geography</th>\n",
       "      <th>Gender</th>\n",
       "      <th>Age</th>\n",
       "      <th>Tenure</th>\n",
       "      <th>Balance</th>\n",
       "      <th>NumOfProducts</th>\n",
       "      <th>HasCrCard</th>\n",
       "      <th>IsActiveMember</th>\n",
       "      <th>EstimatedSalary</th>\n",
       "      <th>Exited</th>\n",
       "    </tr>\n",
       "  </thead>\n",
       "  <tbody>\n",
       "    <tr>\n",
       "      <th>0</th>\n",
       "      <td>1</td>\n",
       "      <td>15634602</td>\n",
       "      <td>Hargrave</td>\n",
       "      <td>619</td>\n",
       "      <td>France</td>\n",
       "      <td>Female</td>\n",
       "      <td>42</td>\n",
       "      <td>2</td>\n",
       "      <td>0.00</td>\n",
       "      <td>1</td>\n",
       "      <td>1</td>\n",
       "      <td>1</td>\n",
       "      <td>101348.88</td>\n",
       "      <td>1</td>\n",
       "    </tr>\n",
       "    <tr>\n",
       "      <th>1</th>\n",
       "      <td>2</td>\n",
       "      <td>15647311</td>\n",
       "      <td>Hill</td>\n",
       "      <td>608</td>\n",
       "      <td>Spain</td>\n",
       "      <td>Female</td>\n",
       "      <td>41</td>\n",
       "      <td>1</td>\n",
       "      <td>83807.86</td>\n",
       "      <td>1</td>\n",
       "      <td>0</td>\n",
       "      <td>1</td>\n",
       "      <td>112542.58</td>\n",
       "      <td>0</td>\n",
       "    </tr>\n",
       "    <tr>\n",
       "      <th>2</th>\n",
       "      <td>3</td>\n",
       "      <td>15619304</td>\n",
       "      <td>Onio</td>\n",
       "      <td>502</td>\n",
       "      <td>France</td>\n",
       "      <td>Female</td>\n",
       "      <td>42</td>\n",
       "      <td>8</td>\n",
       "      <td>159660.80</td>\n",
       "      <td>3</td>\n",
       "      <td>1</td>\n",
       "      <td>0</td>\n",
       "      <td>113931.57</td>\n",
       "      <td>1</td>\n",
       "    </tr>\n",
       "    <tr>\n",
       "      <th>3</th>\n",
       "      <td>4</td>\n",
       "      <td>15701354</td>\n",
       "      <td>Boni</td>\n",
       "      <td>699</td>\n",
       "      <td>France</td>\n",
       "      <td>Female</td>\n",
       "      <td>39</td>\n",
       "      <td>1</td>\n",
       "      <td>0.00</td>\n",
       "      <td>2</td>\n",
       "      <td>0</td>\n",
       "      <td>0</td>\n",
       "      <td>93826.63</td>\n",
       "      <td>0</td>\n",
       "    </tr>\n",
       "    <tr>\n",
       "      <th>4</th>\n",
       "      <td>5</td>\n",
       "      <td>15737888</td>\n",
       "      <td>Mitchell</td>\n",
       "      <td>850</td>\n",
       "      <td>Spain</td>\n",
       "      <td>Female</td>\n",
       "      <td>43</td>\n",
       "      <td>2</td>\n",
       "      <td>125510.82</td>\n",
       "      <td>1</td>\n",
       "      <td>1</td>\n",
       "      <td>1</td>\n",
       "      <td>79084.10</td>\n",
       "      <td>0</td>\n",
       "    </tr>\n",
       "  </tbody>\n",
       "</table>\n",
       "</div>"
      ],
      "text/plain": [
       "   RowNumber  CustomerId   Surname  CreditScore Geography  Gender  Age  \\\n",
       "0          1    15634602  Hargrave          619    France  Female   42   \n",
       "1          2    15647311      Hill          608     Spain  Female   41   \n",
       "2          3    15619304      Onio          502    France  Female   42   \n",
       "3          4    15701354      Boni          699    France  Female   39   \n",
       "4          5    15737888  Mitchell          850     Spain  Female   43   \n",
       "\n",
       "   Tenure    Balance  NumOfProducts  HasCrCard  IsActiveMember  \\\n",
       "0       2       0.00              1          1               1   \n",
       "1       1   83807.86              1          0               1   \n",
       "2       8  159660.80              3          1               0   \n",
       "3       1       0.00              2          0               0   \n",
       "4       2  125510.82              1          1               1   \n",
       "\n",
       "   EstimatedSalary  Exited  \n",
       "0        101348.88       1  \n",
       "1        112542.58       0  \n",
       "2        113931.57       1  \n",
       "3         93826.63       0  \n",
       "4         79084.10       0  "
      ]
     },
     "execution_count": 4,
     "metadata": {},
     "output_type": "execute_result"
    }
   ],
   "source": [
    "df.head(5)"
   ]
  },
  {
   "cell_type": "code",
   "execution_count": 5,
   "id": "6cc17e75-58e8-4809-a431-638a51440ab2",
   "metadata": {},
   "outputs": [],
   "source": [
    "## Separating dataset\n",
    "x = df.iloc[:,3:13]\n",
    "y = df.iloc[:,13]"
   ]
  },
  {
   "cell_type": "code",
   "execution_count": 6,
   "id": "8bf20929-06ec-4d85-ad79-a730a95c07bd",
   "metadata": {},
   "outputs": [],
   "source": [
    "##Feature Engineering\n",
    "\n",
    "geography = pd.get_dummies(x['Geography'],drop_first=True).astype(int)\n",
    "gender = pd.get_dummies(x['Gender'],drop_first=True).astype(int)"
   ]
  },
  {
   "cell_type": "code",
   "execution_count": 7,
   "id": "16653c7e-ef1e-4c9c-968f-f6a801672a06",
   "metadata": {},
   "outputs": [],
   "source": [
    "x = x.drop(['Geography','Gender'],axis=1)"
   ]
  },
  {
   "cell_type": "code",
   "execution_count": 8,
   "id": "e9961df9-3822-4692-85e4-88a63c3eecaa",
   "metadata": {},
   "outputs": [],
   "source": [
    "x = pd.concat([x,geography,gender],axis=1)"
   ]
  },
  {
   "cell_type": "code",
   "execution_count": 9,
   "id": "68ad5cc1-52f2-4ed4-9e9c-8c1dbbb5ed59",
   "metadata": {},
   "outputs": [],
   "source": [
    "##splitting the dataset into training and test set\n",
    "\n",
    "from sklearn.model_selection import train_test_split\n",
    "\n",
    "X_train,X_test,Y_train,Y_test = train_test_split(x,y,test_size=0.2,random_state=0)"
   ]
  },
  {
   "cell_type": "code",
   "execution_count": 10,
   "id": "402eb3dd-6b13-4264-a75c-4acf634bd3e5",
   "metadata": {},
   "outputs": [],
   "source": [
    "##feature Scaling\n",
    "\n",
    "from sklearn.preprocessing import StandardScaler\n",
    "\n",
    "sc = StandardScaler()\n",
    "X_train = sc.fit_transform(X_train)\n",
    "X_test = sc.transform(X_test)\n"
   ]
  },
  {
   "cell_type": "code",
   "execution_count": 11,
   "id": "bc890d9c-83d9-4526-86e8-bde75fdac7b3",
   "metadata": {},
   "outputs": [
    {
     "data": {
      "text/plain": [
       "((8000, 11), (2000, 11))"
      ]
     },
     "execution_count": 11,
     "metadata": {},
     "output_type": "execute_result"
    }
   ],
   "source": [
    "X_train.shape,X_test.shape"
   ]
  },
  {
   "cell_type": "code",
   "execution_count": 12,
   "id": "941a7a91-b2fe-4bb3-bec5-a2562592d08a",
   "metadata": {},
   "outputs": [],
   "source": [
    "## ANN\n",
    "from tensorflow.keras.models import Sequential\n",
    "from tensorflow.keras.layers import ReLU,LeakyReLU,ELU,PReLU\n",
    "from tensorflow.keras.layers import Dense\n",
    "from tensorflow.keras.layers import Dropout"
   ]
  },
  {
   "cell_type": "code",
   "execution_count": 13,
   "id": "f7dea983-a9c5-4d7d-9e85-decb3e42a104",
   "metadata": {},
   "outputs": [],
   "source": [
    "classifier = Sequential() ## ANN initialization\n",
    "classifier.add(Dense(units=11,activation='relu')) ## adding input layer\n",
    "\n",
    "classifier.add(Dense(units=7,activation='relu')) ##adding first hidden layer\n",
    "classifier.add(Dropout(0.3))\n",
    "classifier.add(Dense(units=6,activation='relu')) ##adding second hidden layer\n",
    "classifier.add(Dropout(0.3))\n",
    "classifier.add(Dense(1,activation='sigmoid')) ##adding the output layer"
   ]
  },
  {
   "cell_type": "code",
   "execution_count": 14,
   "id": "9c4d70f4-c140-4aa3-a350-7fc59d06efb3",
   "metadata": {},
   "outputs": [],
   "source": [
    "#for custom\n",
    "import tensorflow\n",
    "opt = tensorflow.keras.optimizers.Adam(learning_rate=0.01)"
   ]
  },
  {
   "cell_type": "code",
   "execution_count": 15,
   "id": "35c7f833-cba4-4014-9a1b-87dcc25176be",
   "metadata": {},
   "outputs": [],
   "source": [
    "classifier.compile(optimizer=opt,loss='binary_crossentropy',metrics=['accuracy']) # adam uses lr 0.01 by default"
   ]
  },
  {
   "cell_type": "code",
   "execution_count": 16,
   "id": "c685a64f-690e-4c59-ad63-db878d103fc1",
   "metadata": {},
   "outputs": [],
   "source": [
    "##early stopping\n",
    "import tensorflow as tf\n",
    "early_stopping = tf.keras.callbacks.EarlyStopping(\n",
    "    monitor='val_loss',\n",
    "    min_delta=0.0001,\n",
    "    patience=20,\n",
    "    verbose=1,\n",
    "    mode='auto',\n",
    "    baseline=None,\n",
    "    restore_best_weights=False,\n",
    "    # start_from_epoch=0\n",
    ")"
   ]
  },
  {
   "cell_type": "code",
   "execution_count": 17,
   "id": "f5a61921-15f4-4004-83d3-142c2331a4d5",
   "metadata": {},
   "outputs": [
    {
     "name": "stdout",
     "output_type": "stream",
     "text": [
      "Epoch 1/500\n",
      "\u001b[1m536/536\u001b[0m \u001b[32m━━━━━━━━━━━━━━━━━━━━\u001b[0m\u001b[37m\u001b[0m \u001b[1m1s\u001b[0m 760us/step - accuracy: 0.7846 - loss: 0.5128 - val_accuracy: 0.7997 - val_loss: 0.4161\n",
      "Epoch 2/500\n",
      "\u001b[1m536/536\u001b[0m \u001b[32m━━━━━━━━━━━━━━━━━━━━\u001b[0m\u001b[37m\u001b[0m \u001b[1m0s\u001b[0m 610us/step - accuracy: 0.8088 - loss: 0.4372 - val_accuracy: 0.8281 - val_loss: 0.3948\n",
      "Epoch 3/500\n",
      "\u001b[1m536/536\u001b[0m \u001b[32m━━━━━━━━━━━━━━━━━━━━\u001b[0m\u001b[37m\u001b[0m \u001b[1m0s\u001b[0m 611us/step - accuracy: 0.8225 - loss: 0.4207 - val_accuracy: 0.8205 - val_loss: 0.3942\n",
      "Epoch 4/500\n",
      "\u001b[1m536/536\u001b[0m \u001b[32m━━━━━━━━━━━━━━━━━━━━\u001b[0m\u001b[37m\u001b[0m \u001b[1m0s\u001b[0m 748us/step - accuracy: 0.8192 - loss: 0.4067 - val_accuracy: 0.8251 - val_loss: 0.3881\n",
      "Epoch 5/500\n",
      "\u001b[1m536/536\u001b[0m \u001b[32m━━━━━━━━━━━━━━━━━━━━\u001b[0m\u001b[37m\u001b[0m \u001b[1m0s\u001b[0m 876us/step - accuracy: 0.8400 - loss: 0.3799 - val_accuracy: 0.8410 - val_loss: 0.3812\n",
      "Epoch 6/500\n",
      "\u001b[1m536/536\u001b[0m \u001b[32m━━━━━━━━━━━━━━━━━━━━\u001b[0m\u001b[37m\u001b[0m \u001b[1m0s\u001b[0m 582us/step - accuracy: 0.8228 - loss: 0.3984 - val_accuracy: 0.8546 - val_loss: 0.3796\n",
      "Epoch 7/500\n",
      "\u001b[1m536/536\u001b[0m \u001b[32m━━━━━━━━━━━━━━━━━━━━\u001b[0m\u001b[37m\u001b[0m \u001b[1m0s\u001b[0m 587us/step - accuracy: 0.8276 - loss: 0.3912 - val_accuracy: 0.8512 - val_loss: 0.3665\n",
      "Epoch 8/500\n",
      "\u001b[1m536/536\u001b[0m \u001b[32m━━━━━━━━━━━━━━━━━━━━\u001b[0m\u001b[37m\u001b[0m \u001b[1m0s\u001b[0m 646us/step - accuracy: 0.8317 - loss: 0.3987 - val_accuracy: 0.8402 - val_loss: 0.3846\n",
      "Epoch 9/500\n",
      "\u001b[1m536/536\u001b[0m \u001b[32m━━━━━━━━━━━━━━━━━━━━\u001b[0m\u001b[37m\u001b[0m \u001b[1m0s\u001b[0m 644us/step - accuracy: 0.8263 - loss: 0.4007 - val_accuracy: 0.8463 - val_loss: 0.3803\n",
      "Epoch 10/500\n",
      "\u001b[1m536/536\u001b[0m \u001b[32m━━━━━━━━━━━━━━━━━━━━\u001b[0m\u001b[37m\u001b[0m \u001b[1m0s\u001b[0m 661us/step - accuracy: 0.8276 - loss: 0.3892 - val_accuracy: 0.8485 - val_loss: 0.3729\n",
      "Epoch 11/500\n",
      "\u001b[1m536/536\u001b[0m \u001b[32m━━━━━━━━━━━━━━━━━━━━\u001b[0m\u001b[37m\u001b[0m \u001b[1m0s\u001b[0m 775us/step - accuracy: 0.8287 - loss: 0.3998 - val_accuracy: 0.8440 - val_loss: 0.3791\n",
      "Epoch 12/500\n",
      "\u001b[1m536/536\u001b[0m \u001b[32m━━━━━━━━━━━━━━━━━━━━\u001b[0m\u001b[37m\u001b[0m \u001b[1m0s\u001b[0m 589us/step - accuracy: 0.8272 - loss: 0.3830 - val_accuracy: 0.8448 - val_loss: 0.3801\n",
      "Epoch 13/500\n",
      "\u001b[1m536/536\u001b[0m \u001b[32m━━━━━━━━━━━━━━━━━━━━\u001b[0m\u001b[37m\u001b[0m \u001b[1m0s\u001b[0m 597us/step - accuracy: 0.8372 - loss: 0.3774 - val_accuracy: 0.8535 - val_loss: 0.3692\n",
      "Epoch 14/500\n",
      "\u001b[1m536/536\u001b[0m \u001b[32m━━━━━━━━━━━━━━━━━━━━\u001b[0m\u001b[37m\u001b[0m \u001b[1m0s\u001b[0m 587us/step - accuracy: 0.8314 - loss: 0.3853 - val_accuracy: 0.8440 - val_loss: 0.3776\n",
      "Epoch 15/500\n",
      "\u001b[1m536/536\u001b[0m \u001b[32m━━━━━━━━━━━━━━━━━━━━\u001b[0m\u001b[37m\u001b[0m \u001b[1m0s\u001b[0m 573us/step - accuracy: 0.8340 - loss: 0.3715 - val_accuracy: 0.8482 - val_loss: 0.3732\n",
      "Epoch 16/500\n",
      "\u001b[1m536/536\u001b[0m \u001b[32m━━━━━━━━━━━━━━━━━━━━\u001b[0m\u001b[37m\u001b[0m \u001b[1m0s\u001b[0m 576us/step - accuracy: 0.8354 - loss: 0.3806 - val_accuracy: 0.8470 - val_loss: 0.3758\n",
      "Epoch 17/500\n",
      "\u001b[1m536/536\u001b[0m \u001b[32m━━━━━━━━━━━━━━━━━━━━\u001b[0m\u001b[37m\u001b[0m \u001b[1m0s\u001b[0m 599us/step - accuracy: 0.8340 - loss: 0.3897 - val_accuracy: 0.8538 - val_loss: 0.3761\n",
      "Epoch 18/500\n",
      "\u001b[1m536/536\u001b[0m \u001b[32m━━━━━━━━━━━━━━━━━━━━\u001b[0m\u001b[37m\u001b[0m \u001b[1m0s\u001b[0m 616us/step - accuracy: 0.8452 - loss: 0.3771 - val_accuracy: 0.8406 - val_loss: 0.3789\n",
      "Epoch 19/500\n",
      "\u001b[1m536/536\u001b[0m \u001b[32m━━━━━━━━━━━━━━━━━━━━\u001b[0m\u001b[37m\u001b[0m \u001b[1m0s\u001b[0m 629us/step - accuracy: 0.8285 - loss: 0.4001 - val_accuracy: 0.8398 - val_loss: 0.3754\n",
      "Epoch 20/500\n",
      "\u001b[1m536/536\u001b[0m \u001b[32m━━━━━━━━━━━━━━━━━━━━\u001b[0m\u001b[37m\u001b[0m \u001b[1m0s\u001b[0m 582us/step - accuracy: 0.8240 - loss: 0.3880 - val_accuracy: 0.8523 - val_loss: 0.3730\n",
      "Epoch 21/500\n",
      "\u001b[1m536/536\u001b[0m \u001b[32m━━━━━━━━━━━━━━━━━━━━\u001b[0m\u001b[37m\u001b[0m \u001b[1m0s\u001b[0m 563us/step - accuracy: 0.8335 - loss: 0.3840 - val_accuracy: 0.8466 - val_loss: 0.3664\n",
      "Epoch 22/500\n",
      "\u001b[1m536/536\u001b[0m \u001b[32m━━━━━━━━━━━━━━━━━━━━\u001b[0m\u001b[37m\u001b[0m \u001b[1m0s\u001b[0m 561us/step - accuracy: 0.8351 - loss: 0.3872 - val_accuracy: 0.8444 - val_loss: 0.3766\n",
      "Epoch 23/500\n",
      "\u001b[1m536/536\u001b[0m \u001b[32m━━━━━━━━━━━━━━━━━━━━\u001b[0m\u001b[37m\u001b[0m \u001b[1m0s\u001b[0m 570us/step - accuracy: 0.8394 - loss: 0.3617 - val_accuracy: 0.8383 - val_loss: 0.3792\n",
      "Epoch 24/500\n",
      "\u001b[1m536/536\u001b[0m \u001b[32m━━━━━━━━━━━━━━━━━━━━\u001b[0m\u001b[37m\u001b[0m \u001b[1m0s\u001b[0m 709us/step - accuracy: 0.8262 - loss: 0.3906 - val_accuracy: 0.8451 - val_loss: 0.3685\n",
      "Epoch 25/500\n",
      "\u001b[1m536/536\u001b[0m \u001b[32m━━━━━━━━━━━━━━━━━━━━\u001b[0m\u001b[37m\u001b[0m \u001b[1m0s\u001b[0m 616us/step - accuracy: 0.8369 - loss: 0.3766 - val_accuracy: 0.8459 - val_loss: 0.3875\n",
      "Epoch 26/500\n",
      "\u001b[1m536/536\u001b[0m \u001b[32m━━━━━━━━━━━━━━━━━━━━\u001b[0m\u001b[37m\u001b[0m \u001b[1m0s\u001b[0m 690us/step - accuracy: 0.8310 - loss: 0.3823 - val_accuracy: 0.8455 - val_loss: 0.3805\n",
      "Epoch 27/500\n",
      "\u001b[1m536/536\u001b[0m \u001b[32m━━━━━━━━━━━━━━━━━━━━\u001b[0m\u001b[37m\u001b[0m \u001b[1m0s\u001b[0m 584us/step - accuracy: 0.8378 - loss: 0.3854 - val_accuracy: 0.8451 - val_loss: 0.3703\n",
      "Epoch 28/500\n",
      "\u001b[1m536/536\u001b[0m \u001b[32m━━━━━━━━━━━━━━━━━━━━\u001b[0m\u001b[37m\u001b[0m \u001b[1m0s\u001b[0m 636us/step - accuracy: 0.8328 - loss: 0.3875 - val_accuracy: 0.8516 - val_loss: 0.3665\n",
      "Epoch 29/500\n",
      "\u001b[1m536/536\u001b[0m \u001b[32m━━━━━━━━━━━━━━━━━━━━\u001b[0m\u001b[37m\u001b[0m \u001b[1m0s\u001b[0m 578us/step - accuracy: 0.8443 - loss: 0.3659 - val_accuracy: 0.8440 - val_loss: 0.3699\n",
      "Epoch 30/500\n",
      "\u001b[1m536/536\u001b[0m \u001b[32m━━━━━━━━━━━━━━━━━━━━\u001b[0m\u001b[37m\u001b[0m \u001b[1m0s\u001b[0m 562us/step - accuracy: 0.8300 - loss: 0.3792 - val_accuracy: 0.8508 - val_loss: 0.3666\n",
      "Epoch 31/500\n",
      "\u001b[1m536/536\u001b[0m \u001b[32m━━━━━━━━━━━━━━━━━━━━\u001b[0m\u001b[37m\u001b[0m \u001b[1m0s\u001b[0m 570us/step - accuracy: 0.8271 - loss: 0.3911 - val_accuracy: 0.8527 - val_loss: 0.3708\n",
      "Epoch 32/500\n",
      "\u001b[1m536/536\u001b[0m \u001b[32m━━━━━━━━━━━━━━━━━━━━\u001b[0m\u001b[37m\u001b[0m \u001b[1m0s\u001b[0m 630us/step - accuracy: 0.8251 - loss: 0.3892 - val_accuracy: 0.8459 - val_loss: 0.3652\n",
      "Epoch 33/500\n",
      "\u001b[1m536/536\u001b[0m \u001b[32m━━━━━━━━━━━━━━━━━━━━\u001b[0m\u001b[37m\u001b[0m \u001b[1m0s\u001b[0m 560us/step - accuracy: 0.8466 - loss: 0.3621 - val_accuracy: 0.8501 - val_loss: 0.3653\n",
      "Epoch 34/500\n",
      "\u001b[1m536/536\u001b[0m \u001b[32m━━━━━━━━━━━━━━━━━━━━\u001b[0m\u001b[37m\u001b[0m \u001b[1m0s\u001b[0m 579us/step - accuracy: 0.8381 - loss: 0.3792 - val_accuracy: 0.8478 - val_loss: 0.3715\n",
      "Epoch 35/500\n",
      "\u001b[1m536/536\u001b[0m \u001b[32m━━━━━━━━━━━━━━━━━━━━\u001b[0m\u001b[37m\u001b[0m \u001b[1m0s\u001b[0m 592us/step - accuracy: 0.8453 - loss: 0.3739 - val_accuracy: 0.8470 - val_loss: 0.3776\n",
      "Epoch 36/500\n",
      "\u001b[1m536/536\u001b[0m \u001b[32m━━━━━━━━━━━━━━━━━━━━\u001b[0m\u001b[37m\u001b[0m \u001b[1m0s\u001b[0m 579us/step - accuracy: 0.8395 - loss: 0.3698 - val_accuracy: 0.8436 - val_loss: 0.3709\n",
      "Epoch 37/500\n",
      "\u001b[1m536/536\u001b[0m \u001b[32m━━━━━━━━━━━━━━━━━━━━\u001b[0m\u001b[37m\u001b[0m \u001b[1m0s\u001b[0m 559us/step - accuracy: 0.8284 - loss: 0.3881 - val_accuracy: 0.8459 - val_loss: 0.3695\n",
      "Epoch 38/500\n",
      "\u001b[1m536/536\u001b[0m \u001b[32m━━━━━━━━━━━━━━━━━━━━\u001b[0m\u001b[37m\u001b[0m \u001b[1m0s\u001b[0m 557us/step - accuracy: 0.8337 - loss: 0.3723 - val_accuracy: 0.8451 - val_loss: 0.3715\n",
      "Epoch 39/500\n",
      "\u001b[1m536/536\u001b[0m \u001b[32m━━━━━━━━━━━━━━━━━━━━\u001b[0m\u001b[37m\u001b[0m \u001b[1m0s\u001b[0m 566us/step - accuracy: 0.8316 - loss: 0.3846 - val_accuracy: 0.8497 - val_loss: 0.3661\n",
      "Epoch 40/500\n",
      "\u001b[1m536/536\u001b[0m \u001b[32m━━━━━━━━━━━━━━━━━━━━\u001b[0m\u001b[37m\u001b[0m \u001b[1m0s\u001b[0m 567us/step - accuracy: 0.8427 - loss: 0.3730 - val_accuracy: 0.8451 - val_loss: 0.3709\n",
      "Epoch 41/500\n",
      "\u001b[1m536/536\u001b[0m \u001b[32m━━━━━━━━━━━━━━━━━━━━\u001b[0m\u001b[37m\u001b[0m \u001b[1m0s\u001b[0m 605us/step - accuracy: 0.8317 - loss: 0.3809 - val_accuracy: 0.8440 - val_loss: 0.3926\n",
      "Epoch 42/500\n",
      "\u001b[1m536/536\u001b[0m \u001b[32m━━━━━━━━━━━━━━━━━━━━\u001b[0m\u001b[37m\u001b[0m \u001b[1m0s\u001b[0m 569us/step - accuracy: 0.8290 - loss: 0.3820 - val_accuracy: 0.8440 - val_loss: 0.3843\n",
      "Epoch 43/500\n",
      "\u001b[1m536/536\u001b[0m \u001b[32m━━━━━━━━━━━━━━━━━━━━\u001b[0m\u001b[37m\u001b[0m \u001b[1m0s\u001b[0m 601us/step - accuracy: 0.8348 - loss: 0.3758 - val_accuracy: 0.8444 - val_loss: 0.3744\n",
      "Epoch 44/500\n",
      "\u001b[1m536/536\u001b[0m \u001b[32m━━━━━━━━━━━━━━━━━━━━\u001b[0m\u001b[37m\u001b[0m \u001b[1m0s\u001b[0m 587us/step - accuracy: 0.8343 - loss: 0.3887 - val_accuracy: 0.8444 - val_loss: 0.3745\n",
      "Epoch 45/500\n",
      "\u001b[1m536/536\u001b[0m \u001b[32m━━━━━━━━━━━━━━━━━━━━\u001b[0m\u001b[37m\u001b[0m \u001b[1m0s\u001b[0m 573us/step - accuracy: 0.8414 - loss: 0.3791 - val_accuracy: 0.8478 - val_loss: 0.3801\n",
      "Epoch 46/500\n",
      "\u001b[1m536/536\u001b[0m \u001b[32m━━━━━━━━━━━━━━━━━━━━\u001b[0m\u001b[37m\u001b[0m \u001b[1m0s\u001b[0m 577us/step - accuracy: 0.8374 - loss: 0.3828 - val_accuracy: 0.8493 - val_loss: 0.4125\n",
      "Epoch 47/500\n",
      "\u001b[1m536/536\u001b[0m \u001b[32m━━━━━━━━━━━━━━━━━━━━\u001b[0m\u001b[37m\u001b[0m \u001b[1m0s\u001b[0m 592us/step - accuracy: 0.8384 - loss: 0.3862 - val_accuracy: 0.8459 - val_loss: 0.3915\n",
      "Epoch 48/500\n",
      "\u001b[1m536/536\u001b[0m \u001b[32m━━━━━━━━━━━━━━━━━━━━\u001b[0m\u001b[37m\u001b[0m \u001b[1m0s\u001b[0m 603us/step - accuracy: 0.8372 - loss: 0.3787 - val_accuracy: 0.8474 - val_loss: 0.3696\n",
      "Epoch 49/500\n",
      "\u001b[1m536/536\u001b[0m \u001b[32m━━━━━━━━━━━━━━━━━━━━\u001b[0m\u001b[37m\u001b[0m \u001b[1m0s\u001b[0m 563us/step - accuracy: 0.8505 - loss: 0.3607 - val_accuracy: 0.8504 - val_loss: 0.3812\n",
      "Epoch 50/500\n",
      "\u001b[1m536/536\u001b[0m \u001b[32m━━━━━━━━━━━━━━━━━━━━\u001b[0m\u001b[37m\u001b[0m \u001b[1m0s\u001b[0m 582us/step - accuracy: 0.8274 - loss: 0.3957 - val_accuracy: 0.8493 - val_loss: 0.3734\n",
      "Epoch 51/500\n",
      "\u001b[1m536/536\u001b[0m \u001b[32m━━━━━━━━━━━━━━━━━━━━\u001b[0m\u001b[37m\u001b[0m \u001b[1m0s\u001b[0m 600us/step - accuracy: 0.8367 - loss: 0.3748 - val_accuracy: 0.8508 - val_loss: 0.3721\n",
      "Epoch 52/500\n",
      "\u001b[1m536/536\u001b[0m \u001b[32m━━━━━━━━━━━━━━━━━━━━\u001b[0m\u001b[37m\u001b[0m \u001b[1m0s\u001b[0m 568us/step - accuracy: 0.8381 - loss: 0.3713 - val_accuracy: 0.8440 - val_loss: 0.3785\n",
      "Epoch 52: early stopping\n"
     ]
    }
   ],
   "source": [
    "model_hist = classifier.fit(X_train,Y_train,validation_split=0.33,batch_size=10,epochs=500,callbacks=[early_stopping])"
   ]
  },
  {
   "cell_type": "code",
   "execution_count": 18,
   "id": "7c6d69a0-7b05-40fd-9624-fa6d60681109",
   "metadata": {},
   "outputs": [
    {
     "data": {
      "text/plain": [
       "dict_keys(['accuracy', 'loss', 'val_accuracy', 'val_loss'])"
      ]
     },
     "execution_count": 18,
     "metadata": {},
     "output_type": "execute_result"
    }
   ],
   "source": [
    "model_hist.history.keys()"
   ]
  },
  {
   "cell_type": "code",
   "execution_count": 19,
   "id": "b83241b2-e694-4396-95fe-5169aa1ae6b9",
   "metadata": {},
   "outputs": [
    {
     "data": {
      "text/plain": [
       "Text(0.5, 1.0, 'model accuracy')"
      ]
     },
     "execution_count": 19,
     "metadata": {},
     "output_type": "execute_result"
    },
    {
     "data": {
      "image/png": "[encoded data removed]",
      "text/plain": [
       "<Figure size 640x480 with 1 Axes>"
      ]
     },
     "metadata": {},
     "output_type": "display_data"
    }
   ],
   "source": [
    "plt.plot(model_hist.history['accuracy'])\n",
    "plt.plot(model_hist.history['val_accuracy'])\n",
    "plt.ylabel('accuracy')\n",
    "plt.xlabel('epoch')\n",
    "plt.legend(['train','test'])\n",
    "plt.title('model accuracy')"
   ]
  },
  {
   "cell_type": "code",
   "execution_count": 20,
   "id": "7b1ca43d-8ffc-4ce5-9553-17e836b32279",
   "metadata": {},
   "outputs": [
    {
     "data": {
      "text/plain": [
       "Text(0.5, 1.0, 'model loss')"
      ]
     },
     "execution_count": 20,
     "metadata": {},
     "output_type": "execute_result"
    },
    {
     "data": {
      "image/png": "[encoded data removed]",
      "text/plain": [
       "<Figure size 640x480 with 1 Axes>"
      ]
     },
     "metadata": {},
     "output_type": "display_data"
    }
   ],
   "source": [
    "plt.plot(model_hist.history['loss'])\n",
    "plt.plot(model_hist.history['val_loss'])\n",
    "plt.ylabel('loss')\n",
    "plt.xlabel('epoch')\n",
    "plt.legend(['train','test'],loc='lower left')\n",
    "plt.title('model loss')"
   ]
  },
  {
   "cell_type": "code",
   "execution_count": 21,
   "id": "37cddcf6-9681-43a1-857d-f5f6b8d67148",
   "metadata": {},
   "outputs": [
    {
     "name": "stdout",
     "output_type": "stream",
     "text": [
      "\u001b[1m63/63\u001b[0m \u001b[32m━━━━━━━━━━━━━━━━━━━━\u001b[0m\u001b[37m\u001b[0m \u001b[1m0s\u001b[0m 608us/step\n"
     ]
    }
   ],
   "source": [
    "y_pred = classifier.predict(X_test)\n"
   ]
  },
  {
   "cell_type": "code",
   "execution_count": 22,
   "id": "ccb9f493-82b0-4b03-91de-60321e133997",
   "metadata": {},
   "outputs": [],
   "source": [
    "y_pred = (y_pred >=0.5)"
   ]
  },
  {
   "cell_type": "code",
   "execution_count": 23,
   "id": "1619eff6-8994-47f5-b466-ec629d682e44",
   "metadata": {},
   "outputs": [
    {
     "data": {
      "text/plain": [
       "array([[1545,   50],\n",
       "       [ 233,  172]])"
      ]
     },
     "execution_count": 23,
     "metadata": {},
     "output_type": "execute_result"
    }
   ],
   "source": [
    "#calculate confusion matrix\n",
    "from sklearn.metrics import confusion_matrix\n",
    "cm = confusion_matrix(Y_test,y_pred)\n",
    "cm"
   ]
  },
  {
   "cell_type": "code",
   "execution_count": 24,
   "id": "2d598b52-175e-4049-ac7d-196626187d89",
   "metadata": {},
   "outputs": [
    {
     "data": {
      "text/plain": [
       "0.8585"
      ]
     },
     "execution_count": 24,
     "metadata": {},
     "output_type": "execute_result"
    }
   ],
   "source": [
    "#calculate accuracy\n",
    "from sklearn.metrics import accuracy_score\n",
    "accuracy_score(Y_test,y_pred)"
   ]
  },
  {
   "cell_type": "code",
   "execution_count": 25,
   "id": "82c0e836-bf57-41ac-8a51-969ea5f329d4",
   "metadata": {},
   "outputs": [
    {
     "data": {
      "text/plain": [
       "[array([[-0.01181217,  0.82127947,  0.35754225,  1.1103443 , -0.48207745,\n",
       "         -0.0403355 ,  0.24335319,  0.3506435 ,  0.01468357, -0.02892039,\n",
       "         -0.9465081 ],\n",
       "        [-0.12742998, -2.4909573 , -1.7931689 , -3.3967686 , -2.6443157 ,\n",
       "         -4.318175  , -0.4963942 , -2.3814838 , -1.0909544 ,  1.5965018 ,\n",
       "         -2.3973966 ],\n",
       "        [-0.22174682, -0.519567  ,  1.1006126 , -0.8113819 ,  1.8215758 ,\n",
       "         -0.24909972,  0.4693966 ,  0.4834184 , -0.2630243 , -0.19255383,\n",
       "          0.99692565],\n",
       "        [ 3.258717  ,  0.44456267, -1.7254888 , -0.721525  ,  1.0183566 ,\n",
       "         -0.1591939 ,  0.80754495,  0.32447517, -1.3495607 ,  0.5429882 ,\n",
       "          2.9129405 ],\n",
       "        [ 2.9880104 , -0.53621304,  0.23756045,  0.15000284,  0.22638395,\n",
       "         -2.2332218 ,  4.2901044 ,  1.4187968 , -4.954534  ,  0.41755182,\n",
       "         -0.08257653],\n",
       "        [ 0.30433595,  1.1102344 , -1.5141994 , -0.7342674 , -0.92872596,\n",
       "         -0.71367145, -0.11816059, -0.23968107, -0.1908155 , -0.3125093 ,\n",
       "         -0.15901369],\n",
       "        [-0.5106781 ,  0.75223523,  0.17371024, -1.3310202 ,  1.4165258 ,\n",
       "         -0.11844507, -0.68578506, -0.44236082, -1.6914152 , -3.953914  ,\n",
       "         -1.6276587 ],\n",
       "        [ 0.01400361,  1.5199401 , -1.4199979 ,  0.4935054 , -0.7362481 ,\n",
       "         -0.20298553,  0.43787637,  0.82809997,  0.86608016,  0.6047201 ,\n",
       "          0.9282606 ],\n",
       "        [-1.4280418 ,  0.8286492 ,  0.79538834, -0.62954205, -1.4516187 ,\n",
       "         -1.8268684 , -0.43787053, -1.2356838 ,  1.2375386 , -0.40872595,\n",
       "          0.23471618],\n",
       "        [ 0.01509081,  0.42905635,  0.1379158 , -1.5130341 ,  0.2381869 ,\n",
       "         -0.4035332 ,  0.48516554,  0.09474802, -0.57229376, -0.39435324,\n",
       "          0.5305403 ],\n",
       "        [-0.6476989 , -0.2711623 ,  1.6182096 ,  0.1793822 , -0.46463102,\n",
       "         -0.9916284 ,  0.30126506,  1.7248814 , -0.28660434,  0.69967186,\n",
       "         -0.3684255 ]], dtype=float32),\n",
       " array([ 0.19358274, -0.82749563, -3.1276631 ,  0.9040973 , -2.0234137 ,\n",
       "        -0.1377076 , -4.901328  ,  0.44839683,  1.0105804 , -3.1589444 ,\n",
       "        -2.8436737 ], dtype=float32),\n",
       " array([[-0.80120677, -1.0679861 , -3.2330291 ,  0.20076354,  0.485907  ,\n",
       "         -0.47068885,  0.36346087],\n",
       "        [-0.23405845,  0.61920244,  0.36307904, -2.0761995 , -0.88614243,\n",
       "          0.56200075, -0.66752917],\n",
       "        [-0.185672  ,  1.1387407 ,  1.2918626 , -2.4426446 , -1.608313  ,\n",
       "         -0.42767626, -0.86391485],\n",
       "        [ 0.08833064,  0.1636889 , -0.1274089 , -1.7144569 , -1.2307706 ,\n",
       "          0.22913866, -1.4509254 ],\n",
       "        [-0.239166  ,  0.12199681, -0.9263682 , -1.3270291 , -1.4221638 ,\n",
       "          0.65261644, -1.6426316 ],\n",
       "        [-0.16202685, -0.0156934 , -0.81429225, -1.809654  , -3.4382026 ,\n",
       "          0.36017716, -1.492378  ],\n",
       "        [ 0.18408564, -0.20019187, -0.5409938 ,  3.8041644 ,  3.9402483 ,\n",
       "         -0.5466172 ,  2.830447  ],\n",
       "        [-0.12348946,  0.56512475,  0.38675871, -1.1110351 , -0.8426657 ,\n",
       "          0.6086901 , -1.6319522 ],\n",
       "        [-0.36696658, -1.4094815 , -2.0713003 ,  0.72843754,  1.2443804 ,\n",
       "         -1.0915384 ,  1.3442144 ],\n",
       "        [-0.6337898 , -0.23074758, -2.1702347 ,  0.9036365 ,  1.3389742 ,\n",
       "         -1.401095  ,  0.84164053],\n",
       "        [-0.9066272 , -1.656103  ,  0.7041097 , -0.5902613 , -0.6615311 ,\n",
       "         -3.0404642 , -0.6494511 ]], dtype=float32),\n",
       " array([-0.6475696 ,  1.0447605 ,  0.92724276, -1.9639848 , -1.7083868 ,\n",
       "         0.9193048 , -0.76781636], dtype=float32),\n",
       " array([[ 0.20802948, -0.6676926 , -0.11059948,  0.37349924,  0.10972687,\n",
       "         -0.13388282],\n",
       "        [ 0.31645876,  0.33658805,  0.2429664 ,  0.32135493,  0.17283086,\n",
       "          0.27776596],\n",
       "        [ 0.44892406,  0.5887469 , -1.1772072 ,  0.6564078 ,  0.8776358 ,\n",
       "          0.70104337],\n",
       "        [-0.19224885, -1.5904303 ,  0.34881797, -1.5441995 , -2.4218452 ,\n",
       "         -0.45058966],\n",
       "        [-1.2851847 , -0.34342736,  0.2636757 , -0.28132173, -0.7292556 ,\n",
       "         -3.4650152 ],\n",
       "        [ 0.1479827 ,  0.00528316, -0.6505248 ,  0.2002156 ,  0.09638113,\n",
       "          0.26187745],\n",
       "        [-2.874643  , -0.2834975 ,  0.16814677, -0.36374483, -0.17917705,\n",
       "         -0.3960134 ]], dtype=float32),\n",
       " array([ 0.8943328 ,  1.1553732 , -0.8936245 ,  1.1210785 ,  0.93896437,\n",
       "         0.8760238 ], dtype=float32),\n",
       " array([[-0.28953493],\n",
       "        [-0.22031179],\n",
       "        [ 0.1759    ],\n",
       "        [-0.3212215 ],\n",
       "        [-0.21657732],\n",
       "        [-0.22259292]], dtype=float32),\n",
       " array([-0.38539788], dtype=float32)]"
      ]
     },
     "execution_count": 25,
     "metadata": {},
     "output_type": "execute_result"
    }
   ],
   "source": [
    "classifier.get_weights()"
   ]
  }
 ],
 "metadata": {
  "kernelspec": {
   "display_name": "Python 3 (ipykernel)",
   "language": "python",
   "name": "python3"
  },
  "language_info": {
   "codemirror_mode": {
    "name": "ipython",
    "version": 3
   },
   "file_extension": ".py",
   "mimetype": "text/x-python",
   "name": "python",
   "nbconvert_exporter": "python",
   "pygments_lexer": "ipython3",
   "version": "3.11.7"
  }
 },
 "nbformat": 4,
 "nbformat_minor": 5
}
